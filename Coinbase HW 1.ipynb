{
 "cells": [
  {
   "cell_type": "markdown",
   "id": "d5b09287-31b6-4dbf-a356-42c547208d6b",
   "metadata": {},
   "source": [
    "# Overview "
   ]
  },
  {
   "cell_type": "markdown",
   "id": "f078c076-442c-40af-b181-e3f0b5527d9b",
   "metadata": {},
   "source": [
    "Coinbase is the leading cryptocurrency exchange in the United States. Their platform allows users to invest, trade, and stake over 25 different types of cryptocurrency. They currently have over 5.8 billions in assets under management."
   ]
  },
  {
   "cell_type": "markdown",
   "id": "90a99342-2f72-4ae0-8984-17383650c68f",
   "metadata": {},
   "source": [
    "- Coinbase \n",
    "- June 2012\n",
    "- Brian Armstrong and Fred Ehrsan \n",
    "- Company was founded as a way to exchange cryptocurrencies starting with Bitcoin.\n",
    "- The company has rasied over 547.3 million in funding over 15 rounds. Funded by 63 investers with Pegasis Tech and Paradigm being the most recent"
   ]
  },
  {
   "cell_type": "markdown",
   "id": "9c8515aa-f396-4f8c-a3c6-af937c57f78d",
   "metadata": {},
   "source": [
    "---"
   ]
  },
  {
   "cell_type": "markdown",
   "id": "1a5d42e5-0f69-4f14-8138-2baffa8218cf",
   "metadata": {},
   "source": [
    "# Buisness Activty "
   ]
  },
  {
   "cell_type": "markdown",
   "id": "67870968-08b2-4f7b-a015-7a3d740f89b0",
   "metadata": {},
   "source": [
    "- They are trying to give users access to a innovating crypto world on a user friendly platform\n",
    "- The intended customer was the new retail invester but has branched out into more fields such as lending and security for buisnesses and individuals. \n",
    "- Coinbase is currenctly operating under Amazon Web Services(AWS). Here is a summary of the technology Coinbase is using under AWS [Link](https://aws.amazon.com/solutions/case-studies/coinbase/)"
   ]
  },
  {
   "cell_type": "markdown",
   "id": "e42d9e2b-4cf7-485b-bab8-812e52f5ef4f",
   "metadata": {},
   "source": [
    "---"
   ]
  },
  {
   "cell_type": "markdown",
   "id": "699a5c95-6f1d-45d1-ae35-fda9506b3d71",
   "metadata": {},
   "source": [
    "# Landscape"
   ]
  },
  {
   "cell_type": "markdown",
   "id": "36a4518f-6f6a-4c48-8aa4-abdcbe9b6d7b",
   "metadata": {},
   "source": [
    "- Company started with consumer investing but has ventured into other domanins such as banking(personal loans), software anayltics and crypto security(Custody).\n",
    "- Consider 5-10 years ago crypto-based lending didn't exist it's an emerging service with lots of potential. Some of the unique features allow lower interest rates, no credit check and more secuirty with blockchain.\n",
    "- Some other crypto exchanges offer the same features like Binance, Kraken and Gemini among many others."
   ]
  },
  {
   "cell_type": "markdown",
   "id": "f14504be-2d8c-4127-9549-8482cd9c0891",
   "metadata": {},
   "source": [
    "---"
   ]
  },
  {
   "cell_type": "markdown",
   "id": "34eda266-fdf5-4e51-b608-42cce965f57a",
   "metadata": {},
   "source": [
    "# Results "
   ]
  },
  {
   "cell_type": "markdown",
   "id": "7c298deb-3a5f-4717-853e-42022f6a69b6",
   "metadata": {},
   "source": [
    "- Coinbase has evolved into one of the leading cryptoexchange platform in the US with over 56 million users and 58 billion in assets.\n",
    "- It continues to update its features for its retail users and large market players to provide a service for everyone. The core metric to differentiate between the top leading cryoto exchanges is to compare the number of users betweeen them.\n",
    "| Company | User Base |\n",
    "|---------|-----------|\n",
    "| Coinbase| 13.3 million |\n",
    "| Kraken | 7 million |\n",
    "| Gemini | 13.6 million |\n",
    "| Crypto.com | 10 million |"
   ]
  },
  {
   "cell_type": "markdown",
   "id": "6d8f5c1f-09c0-4694-b7cc-08621d5f6a9d",
   "metadata": {},
   "source": [
    "----"
   ]
  },
  {
   "cell_type": "markdown",
   "id": "829cbe59-ed61-44d0-a0b8-0fc267db0b95",
   "metadata": {},
   "source": [
    "# Recommendations "
   ]
  },
  {
   "cell_type": "markdown",
   "id": "e207aadf-831c-4b6f-8a96-3d29b2a6e002",
   "metadata": {},
   "source": [
    "- With Coinbase having a stronghold on new crypto investers in the US it would make sense to expand their operations. Introducing new features like mobile banking tied with their crypto would be a start. Their platform already offers a user friendly platform that can be intergrated with personal finance to raise even more in assets. Also introducing physcial storefronts could help new retail investers and potential invesment partners ease their way into the process."
   ]
  },
  {
   "cell_type": "markdown",
   "id": "e6ac21f5-7b90-43f8-8cb0-56d99c8580b5",
   "metadata": {},
   "source": [
    "----"
   ]
  },
  {
   "cell_type": "markdown",
   "id": "c599eddc-5ddb-4bef-a984-ad4281d79e23",
   "metadata": {},
   "source": [
    "# Addendum"
   ]
  },
  {
   "cell_type": "markdown",
   "id": "009175d3-13de-4de3-a98b-ea79e167e5e2",
   "metadata": {},
   "source": [
    "https://aws.amazon.com/solutions/case-studies/coinbase/-\n",
    "\n",
    "https://productmint.com/the-coinbase-business-model-how-does-coinbase-make-money/\n",
    "\n",
    "https://en.wikipedia.org/wiki/Coinbase\n",
    "\n",
    "https://www.businessofapps.com/data/coinbase-statistics/\n",
    "\n",
    "https://help.coinbase.com/en/coinbase/getting-started/crypto-education/what-is-coinbase\n",
    "\n",
    "​"
   ]
  },
  {
   "cell_type": "code",
   "execution_count": null,
   "id": "c9d0c686-e689-4bde-8880-899312af677d",
   "metadata": {},
   "outputs": [],
   "source": []
  }
 ],
 "metadata": {
  "kernelspec": {
   "display_name": "Python 3",
   "language": "python",
   "name": "python3"
  },
  "language_info": {
   "codemirror_mode": {
    "name": "ipython",
    "version": 3
   },
   "file_extension": ".py",
   "mimetype": "text/x-python",
   "name": "python",
   "nbconvert_exporter": "python",
   "pygments_lexer": "ipython3",
   "version": "3.8.8"
  }
 },
 "nbformat": 4,
 "nbformat_minor": 5
}
